{
 "cells": [
  {
   "cell_type": "markdown",
   "id": "05696b36",
   "metadata": {},
   "source": [
    "Given the coordinates of four points in 2D space p1, p2, p3 and p4, return true if the four points construct a square.\n",
    "\n",
    "The coordinate of a point pi is represented as [xi, yi]. The input is not given in any order.\n",
    "\n",
    "A valid square has four equal sides with positive length and four equal angles (90-degree angles).\n",
    "\n",
    " \n",
    "\n",
    "Example 1:\n",
    "\n",
    "Input: p1 = [0,0], p2 = [1,1], p3 = [1,0], p4 = [0,1]\n",
    "\n",
    "Output: true\n",
    "\n",
    "Example 2:\n",
    "\n",
    "Input: p1 = [0,0], p2 = [1,1], p3 = [1,0], p4 = [0,12]\n",
    "\n",
    "Output: false\n",
    "\n",
    "Example 3:\n",
    "\n",
    "Input: p1 = [1,0], p2 = [-1,0], p3 = [0,1], p4 = [0,-1]\n",
    "\n",
    "Output: true"
   ]
  },
  {
   "cell_type": "code",
   "execution_count": 1,
   "id": "e0c5cf45",
   "metadata": {},
   "outputs": [
    {
     "data": {
      "text/plain": [
       "True"
      ]
     },
     "execution_count": 1,
     "metadata": {},
     "output_type": "execute_result"
    }
   ],
   "source": [
    "class Solution:\n",
    "    def validSquare(self, p1, p2, p3, p4):\n",
    "        distSet = set()\n",
    "        distArr = []\n",
    "        \n",
    "        def findDist(ptOne, ptTwo):\n",
    "            dx, dy = ptOne[0] - ptTwo[0], ptOne[1] - ptTwo[1]\n",
    "            dist = dx ** 2 + dy ** 2\n",
    "            distSet.add(dist)\n",
    "            distArr.append(dist)\n",
    "        \n",
    "\t\t# find the 6 distances on the image\n",
    "        findDist(p1, p2)\n",
    "        findDist(p1, p3)\n",
    "        findDist(p1, p4)\n",
    "        findDist(p2, p3)\n",
    "        findDist(p2, p4)\n",
    "        findDist(p3, p4)\n",
    "\t\t# if the number of distances we found is not 2, can't be square\n",
    "        if len(distSet) != 2:\n",
    "            return False\n",
    "\t\t\t\n",
    "\t\t# sort non-decreasingly to have 4 edge distances, and 2 diagonal distances\n",
    "        distArr.sort()\n",
    "        \n",
    "\t\t# as mentioned on the image, condition is checked\n",
    "        if distArr[0] == distArr[1] == distArr[2] == distArr[3]:\n",
    "            if distArr[4] == distArr[5]:\n",
    "                return True\n",
    "        return False\n",
    "p1 = [1,0]\n",
    "p2 = [-1,0]\n",
    "p3 = [0,1]\n",
    "p4 = [0,-1]\n",
    "\n",
    "obj = Solution()\n",
    "obj.validSquare(p1,p2,p3,p4)"
   ]
  },
  {
   "cell_type": "code",
   "execution_count": null,
   "id": "b0976492",
   "metadata": {},
   "outputs": [],
   "source": []
  }
 ],
 "metadata": {
  "kernelspec": {
   "display_name": "Python 3 (ipykernel)",
   "language": "python",
   "name": "python3"
  },
  "language_info": {
   "codemirror_mode": {
    "name": "ipython",
    "version": 3
   },
   "file_extension": ".py",
   "mimetype": "text/x-python",
   "name": "python",
   "nbconvert_exporter": "python",
   "pygments_lexer": "ipython3",
   "version": "3.9.12"
  }
 },
 "nbformat": 4,
 "nbformat_minor": 5
}
