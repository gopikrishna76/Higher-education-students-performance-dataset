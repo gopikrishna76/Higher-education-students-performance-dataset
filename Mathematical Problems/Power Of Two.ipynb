{
 "cells": [
  {
   "cell_type": "markdown",
   "id": "e9932ff4",
   "metadata": {},
   "source": [
    "Given an integer n, return true if it is a power of two. Otherwise, return false.\n",
    "\n",
    "An integer n is a power of two, if there exists an integer x such that n == 2x.\n",
    "\n",
    " \n",
    "\n",
    "Example 1:\n",
    "\n",
    "Input: n = 1\n",
    "\n",
    "Output: true\n",
    "\n",
    "Explanation: 20 = 1\n",
    "\n",
    "Example 2:\n",
    "\n",
    "Input: n = 16\n",
    "\n",
    "Output: true\n",
    "\n",
    "Explanation: 24 = 16\n",
    "\n",
    "Example 3:\n",
    "\n",
    "Input: n = 3\n",
    "\n",
    "Output: false"
   ]
  },
  {
   "cell_type": "code",
   "execution_count": 1,
   "id": "76710094",
   "metadata": {},
   "outputs": [
    {
     "name": "stdout",
     "output_type": "stream",
     "text": [
      "Enter the integer : 64\n"
     ]
    },
    {
     "data": {
      "text/plain": [
       "True"
      ]
     },
     "execution_count": 1,
     "metadata": {},
     "output_type": "execute_result"
    }
   ],
   "source": [
    "class Solution:\n",
    "    def isPowerOfTwo(self, n):\n",
    "        x = 0\n",
    "        y = pow(2, x)\n",
    "\n",
    "        while y < n:\n",
    "            x+=1\n",
    "            y = pow(2, x)\n",
    "            \n",
    "        if (n - pow(2,x)) == 0:\n",
    "            return True\n",
    "        else:\n",
    "            return False\n",
    "\n",
    "n = int(input(\"Enter the integer : \"))\n",
    "\n",
    "obj = Solution()\n",
    "obj.isPowerOfTwo(n)"
   ]
  },
  {
   "cell_type": "code",
   "execution_count": null,
   "id": "440a181f",
   "metadata": {},
   "outputs": [],
   "source": []
  }
 ],
 "metadata": {
  "kernelspec": {
   "display_name": "Python 3 (ipykernel)",
   "language": "python",
   "name": "python3"
  },
  "language_info": {
   "codemirror_mode": {
    "name": "ipython",
    "version": 3
   },
   "file_extension": ".py",
   "mimetype": "text/x-python",
   "name": "python",
   "nbconvert_exporter": "python",
   "pygments_lexer": "ipython3",
   "version": "3.9.12"
  }
 },
 "nbformat": 4,
 "nbformat_minor": 5
}
