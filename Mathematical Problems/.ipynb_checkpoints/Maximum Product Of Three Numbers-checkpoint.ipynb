{
 "cells": [
  {
   "cell_type": "markdown",
   "id": "5e9ecf8f",
   "metadata": {},
   "source": [
    "Given an integer array nums, find three numbers whose product is maximum and return the maximum product.\n",
    "\n",
    " \n",
    "\n",
    "Example 1:\n",
    "\n",
    "Input: nums = [1,2,3]\n",
    "\n",
    "Output: 6\n",
    "\n",
    "Example 2:\n",
    "\n",
    "Input: nums = [1,2,3,4]\n",
    "\n",
    "Output: 24\n",
    "\n",
    "    Example 3:\n",
    "\n",
    "Input: nums = [-1,-2,-3]\n",
    "\n",
    "    Output: -6"
   ]
  },
  {
   "cell_type": "code",
   "execution_count": 1,
   "id": "c6cb772f",
   "metadata": {},
   "outputs": [
    {
     "data": {
      "text/plain": [
       "24"
      ]
     },
     "execution_count": 1,
     "metadata": {},
     "output_type": "execute_result"
    }
   ],
   "source": [
    "class Solution:\n",
    "    def maximumProduct(self, nums):\n",
    "        # TC = O(NlogN) because sorting the array \n",
    "        # SC = O(1); no extra space needed; sorting was done in place.\n",
    "        \n",
    "        # sorting the array in descending order\n",
    "        nums.sort(reverse = True)\n",
    "        \n",
    "        # maximum product can only occur for:\n",
    "        # 1. positive no * positive no * positive no\n",
    "        # 2. negative no * negative no * positive no\n",
    "        \n",
    "        # one negative and two positives and all negatives wont give max product\n",
    "        # case where all numbers in the array are negative \n",
    "        # eg : [-4,-3,-2,-1] is covered in all positives \n",
    "        \n",
    "        res = max(nums[0]*nums[1]*nums[2],nums[-1]*nums[-2]*nums[0])\n",
    "        return  res\n",
    "\n",
    "nums = [1,2,3,4]\n",
    "\n",
    "obj = Solution()\n",
    "obj.maximumProduct(nums)"
   ]
  },
  {
   "cell_type": "code",
   "execution_count": null,
   "id": "cfffbff7",
   "metadata": {},
   "outputs": [],
   "source": []
  }
 ],
 "metadata": {
  "kernelspec": {
   "display_name": "Python 3 (ipykernel)",
   "language": "python",
   "name": "python3"
  },
  "language_info": {
   "codemirror_mode": {
    "name": "ipython",
    "version": 3
   },
   "file_extension": ".py",
   "mimetype": "text/x-python",
   "name": "python",
   "nbconvert_exporter": "python",
   "pygments_lexer": "ipython3",
   "version": "3.9.12"
  }
 },
 "nbformat": 4,
 "nbformat_minor": 5
}
