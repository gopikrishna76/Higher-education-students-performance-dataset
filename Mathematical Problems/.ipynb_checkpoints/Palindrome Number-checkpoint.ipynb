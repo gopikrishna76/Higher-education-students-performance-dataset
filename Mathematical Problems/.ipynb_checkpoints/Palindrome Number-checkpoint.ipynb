{
 "cells": [
  {
   "cell_type": "markdown",
   "id": "9fb441cd",
   "metadata": {},
   "source": [
    "Given an integer x, return true if x is palindrome integer.\n",
    "\n",
    "An integer is a palindrome when it reads the same backward as forward.\n",
    "\n",
    "For example, 121 is a palindrome while 123 is not.\n",
    " \n",
    "\n",
    "Example 1:\n",
    "\n",
    "Input: x = 121\n",
    "\n",
    "Output: true\n",
    "\n",
    "Explanation: 121 reads as 121 from left to right and from right to left.\n",
    "\n",
    "Example 2:\n",
    "\n",
    "Input: x = -121\n",
    "\n",
    "Output: false\n",
    "\n",
    "Explanation: From left to right, it reads -121. From right to left, it becomes 121-. Therefore it is not a palindrome.\n",
    "\n",
    "Example 3:\n",
    "\n",
    "Input: x = 10\n",
    "\n",
    "Output: false\n",
    "\n",
    "Explanation: Reads 01 from right to left. Therefore it is not a palindrome.\n",
    " "
   ]
  },
  {
   "cell_type": "code",
   "execution_count": 1,
   "id": "d6ce8121",
   "metadata": {},
   "outputs": [
    {
     "name": "stdout",
     "output_type": "stream",
     "text": [
      "Enter the integer : 434\n"
     ]
    },
    {
     "data": {
      "text/plain": [
       "True"
      ]
     },
     "execution_count": 1,
     "metadata": {},
     "output_type": "execute_result"
    }
   ],
   "source": [
    "class Solution(object):\n",
    "    def isPalindrome(self, x):\n",
    "        \"\"\"\n",
    "        :type x: int\n",
    "        :rtype: bool\n",
    "        \"\"\"\n",
    "        rev=str(x)[::-1] \n",
    "        if (str(x) in rev):\n",
    "            return True\n",
    "        else:\n",
    "            return False\n",
    "\n",
    "x = int(input(\"Enter the integer : \"))\n",
    "\n",
    "obj = Solution()\n",
    "obj.isPalindrome(x)"
   ]
  },
  {
   "cell_type": "code",
   "execution_count": null,
   "id": "00b0ff6f",
   "metadata": {},
   "outputs": [],
   "source": []
  }
 ],
 "metadata": {
  "kernelspec": {
   "display_name": "Python 3 (ipykernel)",
   "language": "python",
   "name": "python3"
  },
  "language_info": {
   "codemirror_mode": {
    "name": "ipython",
    "version": 3
   },
   "file_extension": ".py",
   "mimetype": "text/x-python",
   "name": "python",
   "nbconvert_exporter": "python",
   "pygments_lexer": "ipython3",
   "version": "3.9.12"
  }
 },
 "nbformat": 4,
 "nbformat_minor": 5
}
