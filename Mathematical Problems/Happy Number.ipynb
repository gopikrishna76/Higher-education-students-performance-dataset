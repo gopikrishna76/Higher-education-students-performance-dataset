{
 "cells": [
  {
   "cell_type": "markdown",
   "id": "7d781b36",
   "metadata": {},
   "source": [
    "Write an algorithm to determine if a number n is happy.\n",
    "\n",
    "A happy number is a number defined by the following process:\n",
    "\n",
    "\n",
    "Starting with any positive integer, replace the number by the sum of the squares of its digits.\n",
    "\n",
    "Repeat the process until the number equals 1 (where it will stay), or it loops endlessly in a cycle which does not include 1.\n",
    "\n",
    "Those numbers for which this process ends in 1 are happy.\n",
    "\n",
    "Return true if n is a happy number, and false if not.\n",
    "\n",
    " \n",
    "\n",
    "Example 1:\n",
    "\n",
    "Input: n = 19\n",
    "\n",
    "Output: true\n",
    "\n",
    "Explanation:\n",
    "\n",
    "12 + 92 = 82\n",
    " \n",
    "82 + 22 = 68\n",
    "\n",
    "62 + 82 = 100\n",
    "\n",
    "12 + 02 + 02 = 1\n",
    "\n",
    "Example 2:\n",
    "\n",
    "Input: n = 2\n",
    "\n",
    "Output: false\n",
    " "
   ]
  },
  {
   "cell_type": "code",
   "execution_count": 2,
   "id": "ba2b3547",
   "metadata": {},
   "outputs": [
    {
     "name": "stdout",
     "output_type": "stream",
     "text": [
      "Enter the integer : 2\n"
     ]
    },
    {
     "data": {
      "text/plain": [
       "False"
      ]
     },
     "execution_count": 2,
     "metadata": {},
     "output_type": "execute_result"
    }
   ],
   "source": [
    "class Solution:\n",
    "    def isHappy(self, n):\n",
    "        visit = set()\n",
    "        \n",
    "        while n not in visit:\n",
    "            visit.add(n)\n",
    "            n = self.sumOfsquare(n)\n",
    "            \n",
    "            if n == 1:\n",
    "                return True\n",
    "        \n",
    "        return False\n",
    "    \n",
    "    def sumOfsquare(self, n):\n",
    "        output = 0\n",
    "        \n",
    "        while n:\n",
    "            digit = n % 10\n",
    "            digit = digit ** 2\n",
    "            output += digit\n",
    "            n = n // 10\n",
    "        return output\n",
    "\n",
    "n = int(input(\"Enter the integer : \"))\n",
    "\n",
    "obj = Solution()\n",
    "obj.isHappy(n)"
   ]
  },
  {
   "cell_type": "code",
   "execution_count": null,
   "id": "75e0c99b",
   "metadata": {},
   "outputs": [],
   "source": []
  }
 ],
 "metadata": {
  "kernelspec": {
   "display_name": "Python 3 (ipykernel)",
   "language": "python",
   "name": "python3"
  },
  "language_info": {
   "codemirror_mode": {
    "name": "ipython",
    "version": 3
   },
   "file_extension": ".py",
   "mimetype": "text/x-python",
   "name": "python",
   "nbconvert_exporter": "python",
   "pygments_lexer": "ipython3",
   "version": "3.9.12"
  }
 },
 "nbformat": 4,
 "nbformat_minor": 5
}
