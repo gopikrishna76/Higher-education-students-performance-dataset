{
 "cells": [
  {
   "cell_type": "markdown",
   "id": "b7d8d652",
   "metadata": {},
   "source": [
    "You are given two positive integers n and k. A factor of an integer n is defined as an integer i where n % i == 0.\n",
    "\n",
    "Consider a list of all factors of n sorted in ascending order, return the kth factor in this list or return -1 if n has less than k factors.\n",
    "\n",
    " \n",
    "\n",
    "Example 1:\n",
    "\n",
    "Input: n = 12, k = 3\n",
    "\n",
    "Output: 3\n",
    "\n",
    "Explanation: Factors list is [1, 2, 3, 4, 6, 12], the 3rd factor is 3.\n",
    "\n",
    "Example 2:\n",
    "\n",
    "Input: n = 7, k = 2\n",
    "\n",
    "Output: 7\n",
    "\n",
    "Explanation: Factors list is [1, 7], the 2nd factor is 7.\n",
    "\n",
    "Example 3:\n",
    "\n",
    "Input: n = 4, k = 4\n",
    "\n",
    "Output: -1\n",
    "\n",
    "Explanation: Factors list is [1, 2, 4], there is only 3 factors. We should return -1."
   ]
  },
  {
   "cell_type": "code",
   "execution_count": 1,
   "id": "560fb2e7",
   "metadata": {},
   "outputs": [
    {
     "data": {
      "text/plain": [
       "4"
      ]
     },
     "execution_count": 1,
     "metadata": {},
     "output_type": "execute_result"
    }
   ],
   "source": [
    "class Solution:\n",
    "    def kthFactor(self, n, k):\n",
    "        for i in range(1,n+1):\n",
    "            if n%i == 0:\n",
    "                k -=1\n",
    "                if k==0:\n",
    "                    return i\n",
    "        if k>0:\n",
    "            return -1\n",
    "        \n",
    "n = 12\n",
    "k = 4\n",
    "#1,2,3,4,6,12 are divisible by 12\n",
    "obj = Solution()\n",
    "obj.kthFactor(n,k)"
   ]
  },
  {
   "cell_type": "code",
   "execution_count": null,
   "id": "126b9322",
   "metadata": {},
   "outputs": [],
   "source": []
  }
 ],
 "metadata": {
  "kernelspec": {
   "display_name": "Python 3 (ipykernel)",
   "language": "python",
   "name": "python3"
  },
  "language_info": {
   "codemirror_mode": {
    "name": "ipython",
    "version": 3
   },
   "file_extension": ".py",
   "mimetype": "text/x-python",
   "name": "python",
   "nbconvert_exporter": "python",
   "pygments_lexer": "ipython3",
   "version": "3.9.12"
  }
 },
 "nbformat": 4,
 "nbformat_minor": 5
}
