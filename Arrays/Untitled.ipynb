{
 "cells": [
  {
   "cell_type": "code",
   "execution_count": 5,
   "id": "5cfd35fb",
   "metadata": {},
   "outputs": [
    {
     "name": "stdout",
     "output_type": "stream",
     "text": [
      "[1, 2, 3, 4, 5, 6, 5, 5, 6]\n"
     ]
    }
   ],
   "source": [
    "class Solution(object):\n",
    "    def removeDuplicates(self, nums):\n",
    "        \"\"\"\n",
    "        :type nums: List[int]\n",
    "        :rtype: int\n",
    "    \n",
    "        \"\"\"\n",
    "        res=1\n",
    "        for i in range(1,len(nums)):\n",
    "            if nums[i]!=nums[res-1]:\n",
    "                nums[res]=nums[i]\n",
    "                res+=1\n",
    "        return res\n",
    "\n",
    "nums = [1,2,2,3,3,4,5,5,6]\n",
    "\n",
    "obj = Solution()\n",
    "obj.removeDuplicates(nums)\n",
    "\n",
    "print(nums)"
   ]
  },
  {
   "cell_type": "code",
   "execution_count": null,
   "id": "face8ae0",
   "metadata": {},
   "outputs": [],
   "source": []
  }
 ],
 "metadata": {
  "kernelspec": {
   "display_name": "Python 3 (ipykernel)",
   "language": "python",
   "name": "python3"
  },
  "language_info": {
   "codemirror_mode": {
    "name": "ipython",
    "version": 3
   },
   "file_extension": ".py",
   "mimetype": "text/x-python",
   "name": "python",
   "nbconvert_exporter": "python",
   "pygments_lexer": "ipython3",
   "version": "3.9.12"
  }
 },
 "nbformat": 4,
 "nbformat_minor": 5
}
